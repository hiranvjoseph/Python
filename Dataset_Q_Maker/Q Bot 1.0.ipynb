{
 "cells": [
  {
   "cell_type": "code",
   "execution_count": null,
   "id": "51f003e2",
   "metadata": {},
   "outputs": [
    {
     "name": "stderr",
     "output_type": "stream",
     "text": [
      "[nltk_data] Downloading package stopwords to\n",
      "[nltk_data]     C:\\Users\\hiran\\AppData\\Roaming\\nltk_data...\n",
      "[nltk_data]   Package stopwords is already up-to-date!\n",
      "[nltk_data] Downloading package punkt to\n",
      "[nltk_data]     C:\\Users\\hiran\\AppData\\Roaming\\nltk_data...\n",
      "[nltk_data]   Package punkt is already up-to-date!\n"
     ]
    },
    {
     "name": "stdout",
     "output_type": "stream",
     "text": [
      "User: 1\n",
      "ChatBot: Who has the highest value in the rating_count column?\n",
      "User: 2\n",
      "ChatBot: What is the correlation between review_content and [other attribute]?\n",
      "User: 3\n",
      "ChatBot: What is the correlation between product_link and [other attribute]?\n"
     ]
    }
   ],
   "source": [
    "import pandas as pd\n",
    "import random\n",
    "import nltk\n",
    "from nltk.corpus import stopwords\n",
    "from nltk.tokenize import word_tokenize\n",
    "\n",
    "# Download NLTK stopwords data if not already downloaded\n",
    "nltk.download('stopwords')\n",
    "nltk.download('punkt')\n",
    "\n",
    "# Load your dataset\n",
    "def load_dataset(data_file):\n",
    "    try:\n",
    "        data = pd.read_csv('amazon.csv')\n",
    "        return data\n",
    "    except FileNotFoundError:\n",
    "        print(f\"Error: The file '{data_file}' was not found.\")\n",
    "        return None\n",
    "\n",
    "\n",
    "# Generate questions based on dataset attributes\n",
    "def generate_questions(data):\n",
    "    questions = []\n",
    "\n",
    "    # Iterate through columns in the dataset\n",
    "    for column in data.columns:\n",
    "        # Generate a question about the correlation\n",
    "        correlation_question = f\"What is the correlation between {column} and [other attribute]?\"\n",
    "        questions.append(correlation_question)\n",
    "\n",
    "        # Generate a question about the highest value\n",
    "        highest_value_question = f\"Who has the highest value in the {column} column?\"\n",
    "        questions.append(highest_value_question)\n",
    "\n",
    "    return questions\n",
    "\n",
    "# Simulate chatbot interaction\n",
    "def chatbot_interaction(data_file):\n",
    "    data = load_dataset(data_file)\n",
    "    questions = generate_questions(data)\n",
    "\n",
    "    while True:\n",
    "        user_input = input(\"User: \")\n",
    "        if user_input.lower() == 'exit':\n",
    "            break\n",
    "        else:\n",
    "            # Select a random question from the list\n",
    "            random_question = random.choice(questions)\n",
    "            print(f\"ChatBot: {random_question}\")\n",
    "\n",
    "# Example usage\n",
    "data_file = 'amazon.csv'\n",
    "chatbot_interaction(data_file)\n"
   ]
  },
  {
   "cell_type": "code",
   "execution_count": null,
   "id": "aff8ef46",
   "metadata": {},
   "outputs": [],
   "source": []
  }
 ],
 "metadata": {
  "kernelspec": {
   "display_name": "Python 3 (ipykernel)",
   "language": "python",
   "name": "python3"
  },
  "language_info": {
   "codemirror_mode": {
    "name": "ipython",
    "version": 3
   },
   "file_extension": ".py",
   "mimetype": "text/x-python",
   "name": "python",
   "nbconvert_exporter": "python",
   "pygments_lexer": "ipython3",
   "version": "3.11.3"
  }
 },
 "nbformat": 4,
 "nbformat_minor": 5
}
