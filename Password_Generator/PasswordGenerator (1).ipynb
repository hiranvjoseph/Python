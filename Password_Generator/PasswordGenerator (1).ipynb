{
 "cells": [
  {
   "cell_type": "code",
   "execution_count": 1,
   "id": "d011eeb6",
   "metadata": {},
   "outputs": [
    {
     "name": "stdout",
     "output_type": "stream",
     "text": [
      "Enter 'new password' to generate a new password: new password\n",
      "Generated Password: q)fgY$*:D2a\n"
     ]
    }
   ],
   "source": [
    "import random\n",
    "import string\n",
    "\n",
    "def generate_password():\n",
    "    length = random.randint(8, 12)\n",
    "    characters = string.ascii_letters + string.digits + string.punctuation\n",
    "    password = ''.join(random.choice(characters) for _ in range(length))\n",
    "    return password\n",
    "\n",
    "# Usage\n",
    "user_command = input(\"Enter 'new password' to generate a new password: \")\n",
    "if user_command.lower() == 'new password':\n",
    "    password = generate_password()\n",
    "    print(\"Generated Password:\", password)\n",
    "else:\n",
    "    print(\"Invalid command. Please enter 'new password' to generate a password.\")\n"
   ]
  },
  {
   "cell_type": "code",
   "execution_count": null,
   "id": "3081470d",
   "metadata": {},
   "outputs": [],
   "source": []
  }
 ],
 "metadata": {
  "kernelspec": {
   "display_name": "Python 3 (ipykernel)",
   "language": "python",
   "name": "python3"
  },
  "language_info": {
   "codemirror_mode": {
    "name": "ipython",
    "version": 3
   },
   "file_extension": ".py",
   "mimetype": "text/x-python",
   "name": "python",
   "nbconvert_exporter": "python",
   "pygments_lexer": "ipython3",
   "version": "3.11.3"
  }
 },
 "nbformat": 4,
 "nbformat_minor": 5
}
